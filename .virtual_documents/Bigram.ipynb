# Open the text file 
with open("wizard_of_oz.txt", 'r') as f:
    text = f.read()
print("Total lenght of the text file is : ",len(text), "\n")
print(text[:250])


# characters
chars = sorted(set(text))
print(chars)
print(len(chars))



string_to_int = { ch:i for i,ch in enumerate(chars) }
int_to_string = { i:ch for i,ch in enumerate(chars) }
encode = lambda s: [string_to_int[c] for c in s]
decode = lambda l: ''.join([int_to_string[i] for i in l])



encoded_hellow = encode("hellow")
encoded_hellow


decoded_hello = decode(encoded_hellow)
decoded_hello


import torch
from torch import nn
from torch.utils.data import DataLoader
from torchvision import datasets
from torchvision.transforms import ToTensor


data = torch.tensor(encode(text), dtype=torch.long)
data
AttributeError: module 'torch' has no attribute 'tensor'



!pip3 install torch torchvision torchaudio --index-url https://download.pytorch.org/whl/cu118


!pip show torch


from torch import tensor


import torch




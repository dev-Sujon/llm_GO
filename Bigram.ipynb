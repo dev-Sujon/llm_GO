{
  "cells": [
    {
      "cell_type": "code",
      "source": [
        "import torch\n",
        "device = 'cuda' if torch.cuda.is_available() else 'cpu'\n",
        "block_size = 8\n",
        "batch_size = 4"
      ],
      "metadata": {
        "id": "XKt7OHtPcwX2"
      },
      "id": "XKt7OHtPcwX2",
      "execution_count": null,
      "outputs": []
    },
    {
      "cell_type": "code",
      "source": [
        "# prompt: import drive\n",
        "\n",
        "from google.colab import drive\n",
        "drive.mount('/content/drive')\n"
      ],
      "metadata": {
        "colab": {
          "base_uri": "https://localhost:8080/"
        },
        "id": "g0xwjYk3ceZp",
        "outputId": "56f24dd3-ad71-4ff5-a058-224f62baf1c5"
      },
      "id": "g0xwjYk3ceZp",
      "execution_count": null,
      "outputs": [
        {
          "output_type": "stream",
          "name": "stdout",
          "text": [
            "Drive already mounted at /content/drive; to attempt to forcibly remount, call drive.mount(\"/content/drive\", force_remount=True).\n"
          ]
        }
      ]
    },
    {
      "cell_type": "code",
      "execution_count": null,
      "id": "d6bd5727-a32b-401e-95fb-19876b120b23",
      "metadata": {
        "colab": {
          "base_uri": "https://localhost:8080/"
        },
        "id": "d6bd5727-a32b-401e-95fb-19876b120b23",
        "outputId": "f22b4da5-cccb-44ff-d8cd-dc5971f01b8a"
      },
      "outputs": [
        {
          "output_type": "stream",
          "name": "stdout",
          "text": [
            "Total lenght of the text file is :  232309 \n",
            "\n",
            "  DOROTHY AND THE WIZARD IN OZ\n",
            "\n",
            "  BY\n",
            "\n",
            "  L. FRANK BAUM\n",
            "\n",
            "  AUTHOR OF THE WIZARD OF OZ, THE LAND OF OZ, OZMA OF OZ, ETC.\n",
            "\n",
            "  ILLUSTRATED BY JOHN R. NEILL\n",
            "\n",
            "  BOOKS OF WONDER WILLIAM MORROW & CO., INC. NEW YORK\n",
            "\n",
            "\n",
            "  [Illustration]\n",
            "\n",
            "\n",
            "  COPYRIGHT 1908 BY L. F\n"
          ]
        }
      ],
      "source": [
        "# Open the text file\n",
        "with open(\"/content/drive/MyDrive/llm_GO/wizard_of_oz.txt\", 'r') as f:\n",
        "    text = f.read()\n",
        "print(\"Total lenght of the text file is : \",len(text), \"\\n\")\n",
        "print(text[:250])"
      ]
    },
    {
      "cell_type": "code",
      "execution_count": null,
      "id": "fe396f44-8c52-4fb5-abb6-35a97b4c0c03",
      "metadata": {
        "colab": {
          "base_uri": "https://localhost:8080/"
        },
        "id": "fe396f44-8c52-4fb5-abb6-35a97b4c0c03",
        "outputId": "ef51056c-b4df-4623-ab39-cefe29b452ce"
      },
      "outputs": [
        {
          "output_type": "stream",
          "name": "stdout",
          "text": [
            "['\\n', ' ', '!', '\"', '&', \"'\", '(', ')', '*', ',', '-', '.', '0', '1', '2', '3', '4', '5', '6', '7', '8', '9', ':', ';', '?', 'A', 'B', 'C', 'D', 'E', 'F', 'G', 'H', 'I', 'J', 'K', 'L', 'M', 'N', 'O', 'P', 'Q', 'R', 'S', 'T', 'U', 'V', 'W', 'X', 'Y', 'Z', '[', ']', '_', 'a', 'b', 'c', 'd', 'e', 'f', 'g', 'h', 'i', 'j', 'k', 'l', 'm', 'n', 'o', 'p', 'q', 'r', 's', 't', 'u', 'v', 'w', 'x', 'y', 'z']\n",
            "80\n"
          ]
        }
      ],
      "source": [
        "# characters\n",
        "chars = sorted(set(text))\n",
        "print(chars)\n",
        "print(len(chars))"
      ]
    },
    {
      "cell_type": "code",
      "execution_count": null,
      "id": "3f848cbb-bb06-4f97-9db9-7a7e9fd05712",
      "metadata": {
        "id": "3f848cbb-bb06-4f97-9db9-7a7e9fd05712"
      },
      "outputs": [],
      "source": [
        "\n",
        "string_to_int = { ch:i for i,ch in enumerate(chars) }\n",
        "int_to_string = { i:ch for i,ch in enumerate(chars) }\n",
        "encode = lambda s: [string_to_int[c] for c in s]\n",
        "decode = lambda l: ''.join([int_to_string[i] for i in l])\n"
      ]
    },
    {
      "cell_type": "code",
      "execution_count": null,
      "id": "651c534f-fc3a-4ff1-a2d5-bc699d5371d1",
      "metadata": {
        "colab": {
          "base_uri": "https://localhost:8080/"
        },
        "id": "651c534f-fc3a-4ff1-a2d5-bc699d5371d1",
        "outputId": "393a15d2-acc5-41f3-fac5-0a2447082dc0"
      },
      "outputs": [
        {
          "output_type": "execute_result",
          "data": {
            "text/plain": [
              "[61, 58, 65, 65, 68, 76]"
            ]
          },
          "metadata": {},
          "execution_count": 8
        }
      ],
      "source": [
        "encoded_hellow = encode(\"hellow\")\n",
        "encoded_hellow"
      ]
    },
    {
      "cell_type": "code",
      "execution_count": null,
      "id": "9af5b986-45bd-40a0-9d22-50c35ea88920",
      "metadata": {
        "colab": {
          "base_uri": "https://localhost:8080/",
          "height": 36
        },
        "id": "9af5b986-45bd-40a0-9d22-50c35ea88920",
        "outputId": "5c191509-20cf-4975-fbb5-b8532e1a17ec"
      },
      "outputs": [
        {
          "output_type": "execute_result",
          "data": {
            "text/plain": [
              "'hellow'"
            ],
            "application/vnd.google.colaboratory.intrinsic+json": {
              "type": "string"
            }
          },
          "metadata": {},
          "execution_count": 9
        }
      ],
      "source": [
        "decoded_hello = decode(encoded_hellow)\n",
        "decoded_hello"
      ]
    },
    {
      "cell_type": "code",
      "execution_count": null,
      "id": "92ca37aa-dd6e-43c2-99ac-5c91b76ab5d2",
      "metadata": {
        "colab": {
          "base_uri": "https://localhost:8080/"
        },
        "id": "92ca37aa-dd6e-43c2-99ac-5c91b76ab5d2",
        "outputId": "48ad1182-97eb-480f-9b41-5cd62936d056"
      },
      "outputs": [
        {
          "output_type": "stream",
          "name": "stdout",
          "text": [
            "tensor([ 1,  1, 28, 39, 42, 39, 44, 32, 49,  1, 25, 38, 28,  1, 44, 32, 29,  1,\n",
            "        47, 33, 50, 25, 42, 28,  1, 33, 38,  1, 39, 50,  0,  0,  1,  1, 26, 49,\n",
            "         0,  0,  1,  1, 36, 11,  1, 30, 42, 25, 38, 35,  1, 26])\n"
          ]
        }
      ],
      "source": [
        "# use to done above work using torch\n",
        "data = torch.tensor(encode(text), dtype=torch.long)\n",
        "print(data[:50])"
      ]
    },
    {
      "cell_type": "code",
      "execution_count": null,
      "id": "4ec718e0-31d5-4c3a-897c-30c6318069f6",
      "metadata": {
        "colab": {
          "base_uri": "https://localhost:8080/"
        },
        "id": "4ec718e0-31d5-4c3a-897c-30c6318069f6",
        "outputId": "9b1fd810-ea63-4995-a4d2-042101bc301b"
      },
      "outputs": [
        {
          "output_type": "execute_result",
          "data": {
            "text/plain": [
              "(tensor(79), tensor(0))"
            ]
          },
          "metadata": {},
          "execution_count": 13
        }
      ],
      "source": [
        "data.max(), data.min()"
      ]
    },
    {
      "cell_type": "markdown",
      "source": [
        "# validation and traing split data"
      ],
      "metadata": {
        "id": "IfnDHu6ddSuH"
      },
      "id": "IfnDHu6ddSuH"
    },
    {
      "cell_type": "code",
      "source": [
        "n = int(0.9 * len(data))\n",
        "train_data = data[:n]\n",
        "val_data = data[n:]"
      ],
      "metadata": {
        "id": "NM-5Sl5NeS5M"
      },
      "id": "NM-5Sl5NeS5M",
      "execution_count": null,
      "outputs": []
    },
    {
      "cell_type": "code",
      "source": [
        "\n",
        "x = train_data[:block_size]\n",
        "y = train_data[1:block_size+1]\n",
        "for t in range(block_size):\n",
        "    context = x[:t+1]\n",
        "    target = y[t]\n",
        "    print(f\"when input is {context} the target: {target}\")\n"
      ],
      "metadata": {
        "colab": {
          "base_uri": "https://localhost:8080/"
        },
        "id": "rgHslJaDdKjD",
        "outputId": "85570b8c-9c65-428b-f3bc-dda1c221a962"
      },
      "id": "rgHslJaDdKjD",
      "execution_count": null,
      "outputs": [
        {
          "output_type": "stream",
          "name": "stdout",
          "text": [
            "when input is tensor([1]) the target: 1\n",
            "when input is tensor([1, 1]) the target: 28\n",
            "when input is tensor([ 1,  1, 28]) the target: 39\n",
            "when input is tensor([ 1,  1, 28, 39]) the target: 42\n",
            "when input is tensor([ 1,  1, 28, 39, 42]) the target: 39\n",
            "when input is tensor([ 1,  1, 28, 39, 42, 39]) the target: 44\n",
            "when input is tensor([ 1,  1, 28, 39, 42, 39, 44]) the target: 32\n",
            "when input is tensor([ 1,  1, 28, 39, 42, 39, 44, 32]) the target: 49\n"
          ]
        }
      ]
    },
    {
      "cell_type": "code",
      "source": [
        "device = 'cuda' if torch.cuda.is_available() else 'cpu'\n",
        "print(device)\n"
      ],
      "metadata": {
        "colab": {
          "base_uri": "https://localhost:8080/"
        },
        "id": "p26IoYwqeIQO",
        "outputId": "c6e38650-2cff-4d72-b9ee-08aa2085e3d6"
      },
      "id": "p26IoYwqeIQO",
      "execution_count": null,
      "outputs": [
        {
          "output_type": "stream",
          "name": "stdout",
          "text": [
            "cuda\n"
          ]
        }
      ]
    },
    {
      "cell_type": "code",
      "source": [],
      "metadata": {
        "id": "_TQJchCbe3l6"
      },
      "id": "_TQJchCbe3l6",
      "execution_count": null,
      "outputs": []
    }
  ],
  "metadata": {
    "kernelspec": {
      "display_name": "cuda-gpt",
      "language": "python",
      "name": "cuda"
    },
    "language_info": {
      "codemirror_mode": {
        "name": "ipython",
        "version": 3
      },
      "file_extension": ".py",
      "mimetype": "text/x-python",
      "name": "python",
      "nbconvert_exporter": "python",
      "pygments_lexer": "ipython3",
      "version": "3.11.7"
    },
    "colab": {
      "provenance": [],
      "gpuType": "T4"
    },
    "accelerator": "GPU"
  },
  "nbformat": 4,
  "nbformat_minor": 5
}